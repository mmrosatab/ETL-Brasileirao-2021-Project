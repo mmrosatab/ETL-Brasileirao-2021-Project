{
 "cells": [
  {
   "cell_type": "code",
   "execution_count": 78,
   "id": "dd295b24",
   "metadata": {},
   "outputs": [],
   "source": [
    "#!pip3 install selenium\n",
    "#!pip3 install unidecode\n",
    "# before test this code, make download geckodriver and copy this file for /usr/local/bin\n",
    "# sudo cp geckodriver /usr/local/bin"
   ]
  },
  {
   "cell_type": "code",
   "execution_count": 1,
   "id": "e4721da0",
   "metadata": {},
   "outputs": [],
   "source": [
    "import pandas as pd\n",
    "from bs4 import BeautifulSoup\n",
    "from selenium import webdriver\n",
    "from selenium.webdriver.firefox.options import Options\n",
    "from selenium.webdriver.common.by import By\n",
    "import time # it was necessary to trigger the click time on the buttons\n",
    "import unidecode"
   ]
  },
  {
   "cell_type": "code",
   "execution_count": 2,
   "id": "8b86df92",
   "metadata": {},
   "outputs": [],
   "source": [
    "# Globo esporte url's\n",
    "athletes_url = \"https://interativos.globoesporte.globo.com/estatisticas/atletas/\"\n",
    "teams_url = \"https://interativos.globoesporte.globo.com/estatisticas/times/\""
   ]
  },
  {
   "cell_type": "code",
   "execution_count": 3,
   "id": "527b48b6",
   "metadata": {},
   "outputs": [],
   "source": [
    "path_teams_files = '../Outputs/teams'\n",
    "path_athletes_files = '../Outputs/athletes'"
   ]
  },
  {
   "cell_type": "code",
   "execution_count": 4,
   "id": "6036c4b6",
   "metadata": {},
   "outputs": [],
   "source": [
    "labels = ['Gol marcado','Gols sofridos','Gols contra','Gols de falta',\n",
    "              'Gol de pênalti','Gols dentro da área','Gol de fora da área','Finalização na trave',\n",
    "              'Finalizações para fora','Faltas recebidas', 'Faltas cometidas',\n",
    "             'Impedimentos','Cartões amarelos','Cartões vermelhos', 'Defesas difíceis',\n",
    "             'Defesas de pênaltis', 'Roubadas de bola','Passes errados']\n"
   ]
  },
  {
   "cell_type": "code",
   "execution_count": 5,
   "id": "c967dee6",
   "metadata": {},
   "outputs": [],
   "source": [
    "def create_normalize_labels_dic(labels_list):\n",
    "    dic = {}\n",
    "    for item in labels_list:\n",
    "        label = item.replace(\" \", \"_\")\n",
    "        label = label.lower()\n",
    "        label = unidecode.unidecode(label) \n",
    "        dic[item] = label   \n",
    "    return dic"
   ]
  },
  {
   "cell_type": "code",
   "execution_count": 6,
   "id": "cfe68b1e",
   "metadata": {},
   "outputs": [],
   "source": [
    "titles = create_normalize_labels_dic(labels)"
   ]
  },
  {
   "cell_type": "code",
   "execution_count": 8,
   "id": "cf7a1ca7",
   "metadata": {},
   "outputs": [],
   "source": [
    "def extract_data(url):\n",
    "    \n",
    "    driver.get(url)\n",
    "    driver.implicitly_wait(10)\n",
    "    \n",
    "    # click in vermais button to open element in html body\n",
    "    for title in titles: \n",
    "        driver.find_element_by_xpath(f\"//button[@data-title='{title}']\").click()\n",
    "        time.sleep(4)\n",
    "    \n",
    "    time.sleep(10) # this time is necessary for opening some elements on the screen\n",
    "    \n",
    "    # get section ranking\n",
    "    div_criterio = driver.find_element_by_xpath(\"//div[@class='criterio']\")\n",
    "    html_content = div_criterio.get_attribute('outerHTML')\n",
    "    soup = BeautifulSoup(html_content, 'html.parser')\n",
    "    section_class_ranking_list = soup.find_all(class_='ranking')\n",
    "    return section_class_ranking_list"
   ]
  },
  {
   "cell_type": "code",
   "execution_count": 9,
   "id": "2dfcc51f",
   "metadata": {},
   "outputs": [],
   "source": [
    "def build_teams_csv_files(section_list, path):\n",
    "    \n",
    "    for item in section_list:\n",
    "        scoutname = item['data-scoutnome']\n",
    "        bucket = []\n",
    "        figure_list = item.find_all('figure')\n",
    "    \n",
    "        for figure in figure_list[1:]:\n",
    "\n",
    "            name = figure.find(class_='ranking__nome').text\n",
    "            name = name.strip()\n",
    "\n",
    "            div_number_of_games = figure.find(class_='ranking__results--item ranking__results--jogos')\n",
    "            spans = div_number_of_games.find_all('span')\n",
    "            number_of_games = spans[1].text\n",
    "\n",
    "            value = figure.find(class_='ranking__results--item ranking__results--total').text\n",
    "\n",
    "            temp_list = []\n",
    "            temp_list.extend([name, number_of_games, value ])\n",
    "            bucket.append(temp_list)\n",
    "        \n",
    "        name_file = titles[scoutname]\n",
    "        df = pd.DataFrame(bucket, columns=['name', 'number_of_games', name_file])\n",
    "        df.to_csv(f'{path}/{name_file}.csv', index=False)"
   ]
  },
  {
   "cell_type": "code",
   "execution_count": 36,
   "id": "7d472918",
   "metadata": {},
   "outputs": [],
   "source": [
    "def build_athletes_csv_files(section_list, path):\n",
    "    \n",
    "    for item in section_list:\n",
    "        scoutname = item['data-scoutnome']\n",
    "        bucket = []\n",
    "        figure_list = item.find_all('figure')\n",
    "    \n",
    "        for figure in figure_list[1:]:\n",
    "\n",
    "            team = figure.find(class_='ranking__escudo--image')\n",
    "            team = team['title'].strip()\n",
    "\n",
    "            position = figure.find(class_='ranking__posicao').text\n",
    "            position = position.strip()\n",
    "\n",
    "            name = figure.find(class_='ranking__nome').text\n",
    "            name = name.strip()\n",
    "\n",
    "            div_number_of_games = figure.find(class_='ranking__results--item ranking__results--jogos')\n",
    "            spans = div_number_of_games.find_all('span')\n",
    "            number_of_games = spans[1].text\n",
    "\n",
    "            value = figure.find(class_='ranking__results--item ranking__results--total').text\n",
    "\n",
    "            temp_list = []\n",
    "            temp_list.extend([name, position, team , number_of_games, value ])\n",
    "            bucket.append(temp_list)\n",
    "        \n",
    "        name_file = titles[scoutname]\n",
    "        df = pd.DataFrame(bucket, columns=['name', 'position', 'team', 'number_of_games',name_file])\n",
    "        df.to_csv(f'{path}/{name_file}.csv', index=False)"
   ]
  },
  {
   "cell_type": "code",
   "execution_count": 11,
   "id": "0cacf5d9",
   "metadata": {},
   "outputs": [],
   "source": [
    "option = Options()\n",
    "option.headless = True\n",
    "driver = webdriver.Firefox(options=option)\n",
    "teams_section_list = extract_data(url=teams_url)\n",
    "athletes_section_list = extract_data(url=athletes_url)\n",
    "driver.quit()"
   ]
  },
  {
   "cell_type": "code",
   "execution_count": 32,
   "id": "520c80f5",
   "metadata": {},
   "outputs": [],
   "source": [
    "\n",
    "build_teams_csv_files(teams_section_list, path=path_teams_files)"
   ]
  },
  {
   "cell_type": "code",
   "execution_count": 37,
   "id": "24d54d24",
   "metadata": {},
   "outputs": [],
   "source": [
    "build_athletes_csv_files(athletes_section_list, path=path_athletes_files)"
   ]
  }
 ],
 "metadata": {
  "kernelspec": {
   "display_name": "Python 3",
   "language": "python",
   "name": "python3"
  },
  "language_info": {
   "codemirror_mode": {
    "name": "ipython",
    "version": 3
   },
   "file_extension": ".py",
   "mimetype": "text/x-python",
   "name": "python",
   "nbconvert_exporter": "python",
   "pygments_lexer": "ipython3",
   "version": "3.6.9"
  }
 },
 "nbformat": 4,
 "nbformat_minor": 5
}
