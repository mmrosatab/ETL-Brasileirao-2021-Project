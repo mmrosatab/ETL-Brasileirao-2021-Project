{
 "cells": [
  {
   "cell_type": "code",
   "execution_count": 26,
   "id": "9c76cac1",
   "metadata": {},
   "outputs": [],
   "source": [
    "#!pip3 install selenium"
   ]
  },
  {
   "cell_type": "code",
   "execution_count": null,
   "id": "4daec911",
   "metadata": {},
   "outputs": [],
   "source": [
    "# before test this code, make download geckodriver and copy this file for /usr/local/bin\n",
    "# sudo cp geckodriver /usr/local/bin"
   ]
  },
  {
   "cell_type": "code",
   "execution_count": 39,
   "id": "6774c3bf",
   "metadata": {},
   "outputs": [],
   "source": [
    "import requests\n",
    "import pandas as pd\n",
    "from bs4 import BeautifulSoup\n",
    "from selenium import webdriver\n",
    "from selenium.webdriver.firefox.options import Options\n",
    "import json"
   ]
  },
  {
   "cell_type": "code",
   "execution_count": 40,
   "id": "9e0626f9",
   "metadata": {},
   "outputs": [],
   "source": [
    "# URL globo esporte\n",
    "url = \"https://interativos.globoesporte.globo.com/estatisticas/atletas/\""
   ]
  },
  {
   "cell_type": "code",
   "execution_count": 41,
   "id": "936adc69",
   "metadata": {},
   "outputs": [],
   "source": [
    "def build_data(url):\n",
    "    \n",
    "    option = Options()\n",
    "    option.headless = False\n",
    "    driver = webdriver.Firefox(options=option)\n",
    "\n",
    "    driver.get(url)\n",
    "    driver.implicitly_wait(10)\n",
    "    \n",
    "    driver.find_element_by_xpath(\n",
    "        f\"//div[@class='wrapper__estatisticas']//nav[@class='navegador']//ul//li[@data-tipo='2']//a\").click()\n",
    "\n",
    "    driver.implicitly_wait(10)\n",
    "        \n",
    "    driver.quit()"
   ]
  },
  {
   "cell_type": "code",
   "execution_count": 42,
   "id": "e9e7389d",
   "metadata": {},
   "outputs": [],
   "source": [
    "build_data(url)"
   ]
  },
  {
   "cell_type": "code",
   "execution_count": null,
   "id": "5839f560",
   "metadata": {},
   "outputs": [],
   "source": []
  }
 ],
 "metadata": {
  "kernelspec": {
   "display_name": "Python 3",
   "language": "python",
   "name": "python3"
  },
  "language_info": {
   "codemirror_mode": {
    "name": "ipython",
    "version": 3
   },
   "file_extension": ".py",
   "mimetype": "text/x-python",
   "name": "python",
   "nbconvert_exporter": "python",
   "pygments_lexer": "ipython3",
   "version": "3.6.9"
  }
 },
 "nbformat": 4,
 "nbformat_minor": 5
}
