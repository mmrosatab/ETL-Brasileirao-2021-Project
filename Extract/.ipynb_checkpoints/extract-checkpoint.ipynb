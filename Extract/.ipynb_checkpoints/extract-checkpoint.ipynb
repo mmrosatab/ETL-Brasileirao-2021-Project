{
 "cells": [
  {
   "cell_type": "code",
   "execution_count": 127,
   "id": "681dbd1b",
   "metadata": {},
   "outputs": [],
   "source": [
    "import pandas as pf\n",
    "import tweepy as tw"
   ]
  },
  {
   "cell_type": "code",
   "execution_count": 128,
   "id": "4f848868",
   "metadata": {},
   "outputs": [],
   "source": [
    "with open('../APIKeys/newKeys.txt', 'r') as file:\n",
    "    consumer_key = file.readline().strip('\\n')\n",
    "    consumer_secret = file.readline().strip('\\n')\n",
    "    bearer_token = file.readline().strip('\\n')\n",
    "    access_token = file.readline().strip('\\n')\n",
    "    access_token_secret = file.readline().strip('\\n')"
   ]
  },
  {
   "cell_type": "code",
   "execution_count": 155,
   "id": "9e0335ec",
   "metadata": {},
   "outputs": [],
   "source": [
    "client = tw.Client(bearer_token=bearer_token,consumer_key=consumer_key, \n",
    "                   consumer_secret=consumer_secret,access_token=access_token,\n",
    "                  access_token_secret=access_token_secret)"
   ]
  },
  {
   "cell_type": "code",
   "execution_count": 157,
   "id": "5c76ef3b",
   "metadata": {},
   "outputs": [
    {
     "data": {
      "text/plain": [
       "Response(data=[<Tweet id=1492258865186062348 text=RT @paposfut: Prior no BBB foi tipo o Jorge Jesus no Flamengo, a torcida espera que aconteça igual todo ano, mas aquilo foi um ponto fora d…>, <Tweet id=1492258857627926532 text=RT @KaiqueDalapola: Mulher, negra, baiana (criada em GO). Hoje, como professora de biologia, ganha R$ 1,7 mil por mês e perdeu uma vaga de…>, <Tweet id=1492258851462209552 text=RT @kitsurice: リィンとアルティナ　✦　その距離が誇らしい　(BBBﾄﾚｽ) https://t.co/pB9eOfjNjw>, <Tweet id=1492258851227328513 text=RT @rafaelportugal: A Larissa tava vendo outro BBB. Deve ser algum antigo no @globoplay>, <Tweet id=1492258848719134722 text=A essa hora ano passado, se duas pessoas tivessem na casa com infos de fora o @GilDoVigor já tinha surtado, andando de um lado para o outro pensando até sobre o paredão da semana seguinte.\n",
       "\n",
       "que saudades do melhor entretenimento do BBB>, <Tweet id=1492258841903476745 text=RT @commentslet: tuiteiro : se a jade e o paulo ficarem agora vai ser forçado\n",
       "\n",
       "eles desde o início do bbb \"forçando\" a relação deles : http…>, <Tweet id=1492258840016044037 text=Porra tá impossível assistir o BBB no @globoplay hoje. As duas câmeras no quarto de vidro e o resto mostrando o nada. Que inferno de ppv ruim da porra (não que o programa não esteja tb)>, <Tweet id=1492258836115296258 text=RT @_doblues: Paulo André dizendo que a Eslovênia é a mais bonita da casa é pra fechar o BBB e dar o prêmio para o Tadeu.>, <Tweet id=1492258833934266368 text=@webtvbrasileira Crazy geral 🤔🤨🧐 é a conta gotas lenda do BBB já a esquesita, Jajá aí ai,  Kkkkkkkk https://t.co/1gFPPH9Dee>, <Tweet id=1492258831006679040 text=RT @DoentesPFutebol: Atualização do mercado da bola no BBB. \n",
       "\n",
       "https://t.co/cti0ELUR2K>, <Tweet id=1492258829517656064 text=RT @KaiqueDalapola: Mulher, negra, baiana (criada em GO). Hoje, como professora de biologia, ganha R$ 1,7 mil por mês e perdeu uma vaga de…>, <Tweet id=1492258827110133764 text=RT @chicobarney: \"Esse é o BBB diferente de todos os outros\", diz Pedro Scooby, o homem que garante jamais ter assistido ao BBB. #BBB22>, <Tweet id=1492258826481025025 text=RT @lda_cristina: @acervocarthur BBB\n",
       "\n",
       "CARTHURDAY UM ANO DE FANDOM>, <Tweet id=1492258824677478407 text=@Dantinhas acho que ja era mesmo, pois esse bbb falta alguém que seja mais \"extremista\" para esse povo ter motivos de levantar voz. eu só vejo a natalia como \"bomba\" e mesmo assim tentam podar o comportamento dela.  ela mesma já falou que fica dificil levar até uma briga a sério lá.>, <Tweet id=1492258824065110018 text=‘Transar ouvindo louvor é novo pra mim’, brinca marido de Sasha Meneghel\n",
       "\n",
       "Quer ficar ligado em tudo que acontece no BBB 22, siga nosso perfil\n",
       "\n",
       "#bbb22 #bbb_22 #bbb2022 #bbb #bigbrotherbrasil #bigbrotherbrasil22\n",
       "\n",
       "https://t.co/UWC3wSP80X>, <Tweet id=1492258822378999824 text=RT @rinasxcx: se eu chegasse no bbb na casa de vidro eu ia servir tanta tortura psicologica ja ia falando jade picon vc perdeu 5 milhoes de…>, <Tweet id=1492258818188791808 text=RT @PaolaDeboche: Se eu entrasse no bbb eu ia servir tanta tortura psicológica, não tenho nada a perder mesmo. 😂 #BBB22>, <Tweet id=1492258817261948930 text=Por isso que se eu tivesse no BBB e fosse líder meu tema seria: furacão 2000 ou Baile da DZ7 😰 https://t.co/qom9gCVLV7>, <Tweet id=1492258812593680386 text=RT @acervocarthur: Terceiro desafio\n",
       "\n",
       "Isso ou Aquilo? \n",
       "\n",
       "BBB x Fazenda\n",
       "Twitter x Whatsapp\n",
       "Youtube x Netflix\n",
       "Calor x Frio\n",
       "Série x Filme\n",
       "Biscoi…>, <Tweet id=1492258812576817152 text=RT @rinasxcx: se eu chegasse no bbb na casa de vidro eu ia servir tanta tortura psicologica ja ia falando jade picon vc perdeu 5 milhoes de…>, <Tweet id=1492258811914108933 text=@acervocarthur BBB\n",
       "CARTHURDAY UM ANO DE FANDOM>, <Tweet id=1492258808772665353 text=RT @AvansoBia: A Jade disse que entrou no BBB pra explodir a bolha dela e as pessoas que ela fez amizade foram duas meninas extremamente pa…>, <Tweet id=1492258808307015685 text=RT @eslovecentral: 🚨 Eslovênia está em 3° lugar para vencer o Big Brother Brasil 22 na enquente UOL com 9:40% dos votos! ❤  CONTINUEM VOTAN…>, <Tweet id=1492258807728246791 text=O BBB tem uma produção e se alguém cometer crime é removido do programa. https://t.co/nDOKK810p0>, <Tweet id=1492258806872559620 text=Tirei Maddy Picon https://t.co/MxlbHNYrSa>, <Tweet id=1492258805056421888 text=@maathez1n @bbb Segundo alguns emocionados é ela quem tá movimentando o jogo. \n",
       "Movimento: Obsessão pelo Arthur só pq ele não lambeu os pés dela. #BBB22>, <Tweet id=1492258801138999304 text=@mthus_ @UPureza @vaidesmaiar mais pesada que o 21?  (obs.: só comecei a acompanhar BBB depois da desistência do Lucas Penteado)>, <Tweet id=1492258797452238848 text=Me chamar de thais do bbb ok, mas de juliana bonde é demais>, <Tweet id=1492258794201665539 text=RT @acervocarthur: Terceiro desafio\n",
       "\n",
       "Isso ou Aquilo? \n",
       "\n",
       "BBB x Fazenda\n",
       "Twitter x Whatsapp\n",
       "Youtube x Netflix\n",
       "Calor x Frio\n",
       "Série x Filme\n",
       "Biscoi…>, <Tweet id=1492258791030677508 text=@jaurespears E da pra ver a linha que separa as classes sociais de longe nesse BBB. \n",
       "\n",
       "E depois o bobinho não quer que Flop, foi tentar salvar e colocou mais uma pro grupinho das garotas do quarto cor de rosa, aí fica difícil>, <Tweet id=1492258788086267905 text=@judepaulla1 bbb é caridade? ata>, <Tweet id=1492258786081390597 text=por mim acabava o BBB e dava o prêmio pro Tadeu odeio todos só assisto pra passar raiva>, <Tweet id=1492258785511022605 text=RT @rinasxcx: se eu chegasse no bbb na casa de vidro eu ia servir tanta tortura psicologica ja ia falando jade picon vc perdeu 5 milhoes de…>, <Tweet id=1492258785171279872 text=RT @carmensvirginia: Pra mim os personagens da casa de vidro já fizeram o papel, agora é curtir a fama por ter ajudado o bbb e vamos pro mu…>, <Tweet id=1492258781807403010 text=@risos Isso sim era BBB de verdade!>, <Tweet id=1492258773540425735 text=RT @DoentesPFutebol: Atualização do mercado da bola no BBB. \n",
       "\n",
       "https://t.co/cti0ELUR2K>, <Tweet id=1492258768062758921 text=RT @rinasxcx: se eu chegasse no bbb na casa de vidro eu ia servir tanta tortura psicologica ja ia falando jade picon vc perdeu 5 milhoes de…>, <Tweet id=1492258765986582538 text=RT @_doblues: Paulo André dizendo que a Eslovênia é a mais bonita da casa é pra fechar o BBB e dar o prêmio para o Tadeu.>, <Tweet id=1492258764879286278 text=Deus mandando o povo do bbb parar de cantar https://t.co/VlPNmXl94c>, <Tweet id=1492258760949182470 text=RT @rinasxcx: se eu chegasse no bbb na casa de vidro eu ia servir tanta tortura psicologica ja ia falando jade picon vc perdeu 5 milhoes de…>, <Tweet id=1492258759028191232 text=Ela colocou a Brunna com as comadres... Podia mesmo viu #bbb #BBB22 https://t.co/Y8GdjyEnhq>, <Tweet id=1492258758365519878 text=RT @acervocarthur: Terceiro desafio\n",
       "\n",
       "Isso ou Aquilo? \n",
       "\n",
       "BBB x Fazenda\n",
       "Twitter x Whatsapp\n",
       "Youtube x Netflix\n",
       "Calor x Frio\n",
       "Série x Filme\n",
       "Biscoi…>, <Tweet id=1492258755412742152 text=RT @rinasxcx: se eu chegasse no bbb na casa de vidro eu ia servir tanta tortura psicologica ja ia falando jade picon vc perdeu 5 milhoes de…>, <Tweet id=1492258755056402433 text=@sacelia327 @EnquetesNews @Naiarazevedo Faz mesmo...BBB perdeu a graça sem ela..nem assisto.>, <Tweet id=1492258750878601217 text=RT @_alineramos: Existem vários BBB 22: o do Twitter, o do Instagram, o do Facebook e o da Globo. A questão é qual versão do BBB os dois ac…>, <Tweet id=1492258750694055938 text=RT @rinasxcx: se eu chegasse no bbb na casa de vidro eu ia servir tanta tortura psicologica ja ia falando jade picon vc perdeu 5 milhoes de…>, <Tweet id=1492258750656360451 text=RT @paposfut: Prior no BBB foi tipo o Jorge Jesus no Flamengo, a torcida espera que aconteça igual todo ano, mas aquilo foi um ponto fora d…>, <Tweet id=1492258749930737666 text=@anna_liliane @CentralReaIity As duas provas eram exatamente iguais, coisa que nunca teve antes no bbb, sera que se tivesse prova de resistência ela se sairia tao bem assim? E nao ela nao joga, ela jogou o Arthur no paredão pq achou que estava queimado aqui fora. Nao contou os votos e o DG foi pro paredao>, <Tweet id=1492258749830082560 text=Parece que o parquinho vai  (finalmente) pegar fogo... #BBB22 \n",
       "\n",
       "https://t.co/lnRbxTdRCE>, <Tweet id=1492258749792329728 text=O mesmo povo que diz \"desligue a TV e vá ler um livro\" por causa do BBB é o mesmo que não daria conta de ler 15 páginas de um livro durante o tempo do programa>, <Tweet id=1492258746151706630 text=@bbb_matteuws Efficace>, <Tweet id=1492258744041836544 text=Vou falar a real do que eu acho do bbb… Eu acho que vocês telespectadores são um SACO de chatos, nunca nada tá bom pra vocês… #bbb22>, <Tweet id=1492258743433805827 text=Boninho só fez merda nesse BBB... me põe lá que na raiva do mundo que tô faço aquela bosta pegar fogo em 24h>, <Tweet id=1492258742058074120 text=RT @littlwgaspar: sdd do bbb 20>, <Tweet id=1492258741797982213 text=@bbb A GLOBO COLOCANDO CASA DE VIDRO DENTRO DA CASA PARA VER SE MELHORA A FLOPAGEM QUE ESTA,AINDA POR CIMA COMECARAM A FALAR TUDO QUE O BRASIL QUERIA FALAR,ABRIRAM A BOCA E NEM ENTRARAM AINDA,E MELHOR FICAREM FORA,NÃO ADIANTA MAIS ENTRAREM,SE VCS APOIAREM ELES ENTRAREM E BURRICE>, <Tweet id=1492258740376162313 text=Bbb 22 vc sabe q flopou quando ate meme do bbb 20 estão ressuscitando>, <Tweet id=1492258738929119236 text=tomara que a minha maria fuja do paredão o quanto der e aproveite muito esse bbb pq no primeiro paredao que ela for ela sai infelizmente https://t.co/EtR4gqkZS6>, <Tweet id=1492258737637273600 text=@boninho @bbb @NoLimite Eu sou Tutu, um cara sem limites, imagina, eu luto a 17 anos pelo BBB. @GilDoVigor @juliette #bbb22 #bbb23 https://t.co/EW2wpxoo4g>, <Tweet id=1492258734965407747 text=@naypets 1\n",
       "\n",
       "#BBB22 #sdv #BBB #RedeBBB #BigBrotherBrasil #folowback \n",
       "https://t.co/gPSHKTPQCO>, <Tweet id=1492258733052862472 text=@joaooctrl @Letty02024867 Grupo não ganha BBB? O que houve no BBB 20 então ? KKKKKKKKKKK>, <Tweet id=1492258731949580289 text=RT @maracamis: todo dia que entro no tik tok tem um vídeo do felipe prior hitando, canal no yt crescendo sem ele postar vídeos a meses, ins…>, <Tweet id=1492258730234331136 text=#TVZVerao  e a campeã  do @bbb 21 ganhou com seu sotaque mas segue cantando sem sotaque. hahaha>, <Tweet id=1492258729076707334 text=RT @rinasxcx: se eu chegasse no bbb na casa de vidro eu ia servir tanta tortura psicologica ja ia falando jade picon vc perdeu 5 milhoes de…>, <Tweet id=1492258726098710533 text=RT @rinasxcx: se eu chegasse no bbb na casa de vidro eu ia servir tanta tortura psicologica ja ia falando jade picon vc perdeu 5 milhoes de…>, <Tweet id=1492258717781344264 text=RT @acervocarthur: Terceiro desafio\n",
       "\n",
       "Isso ou Aquilo? \n",
       "\n",
       "BBB x Fazenda\n",
       "Twitter x Whatsapp\n",
       "Youtube x Netflix\n",
       "Calor x Frio\n",
       "Série x Filme\n",
       "Biscoi…>, <Tweet id=1492258710177128449 text=RT @rinasxcx: se eu chegasse no bbb na casa de vidro eu ia servir tanta tortura psicologica ja ia falando jade picon vc perdeu 5 milhoes de…>, <Tweet id=1492258706985267200 text=RT @clarkesgrifins: A mansão q arthur aguiar alugou na cabeça de jade picon com um simples parabéns #bbb22>, <Tweet id=1492258703403331585 text=Essa Larissa tava assistindo o bbb onde?  Ou é jogo ou é doida. Só pode. Kkkkkk #casadevidro>, <Tweet id=1492258702979739649 text=RT @_alineramos: Existem vários BBB 22: o do Twitter, o do Instagram, o do Facebook e o da Globo. A questão é qual versão do BBB os dois ac…>, <Tweet id=1492258702245650432 text=Estou muito puta com o BBB. Eles não podem falar um carvalho a mais que eles tiram, que ódio cara \n",
       "#BBB22>, <Tweet id=1492258700995796996 text=to botando fé que depois dessa casa de vidro o bbb melhora>, <Tweet id=1492258700408594446 text=@MascVann Literalmente, Larissa e Eslovénia se conhecem, Pedro Scooby conhece Jade e Bárbara, Viny aparentemente conhece Eliezer de algum lugar… BBB dos conhecidos>, <Tweet id=1492258699896889356 text=@bbb IN-SU-POR-TÁ-VEL !>, <Tweet id=1492258699481657347 text=Mano os telespectadores do bbb são extremamente burros puta que pariu, ninguém sabe o q caralho é estratégia não? ela poderia muito bem usar as armas que ela tem p jogar e o público amar ela de primeira. Por exemplo tirar quem o público não gosta, mas ela quer mexer na casa https://t.co/fzwMmq6ath>, <Tweet id=1492258687834013696 text=@boninho @bbb @NoLimite Se escolher pessoas pro No Limite como escolhe pro BBB tá lascado hein!>, <Tweet id=1492258685543985157 text=sabia nem q tinha ngc de casa de vidro hj... BBB? n assisto, tô lendo um livro>, <Tweet id=1492258685380444160 text=No @bbb eu tenho saudades é da prova da comida, domingo de manhã, geral de ressaca, várias merdas e agressões gratuitas #bbb22>, <Tweet id=1492258684201803779 text=E muita falta do que fazer !! Só falam dessa merda de bbb!! É melhor ver algo produtivo, qndo é um adolescente td bem!! Porra uma cambada de burro velho. Idiotice 🤪🤪🙄🙄>, <Tweet id=1492258680150138887 text=RT @rinasxcx: se eu chegasse no bbb na casa de vidro eu ia servir tanta tortura psicologica ja ia falando jade picon vc perdeu 5 milhoes de…>, <Tweet id=1492258679470665729 text=RT @paposfut: Prior no BBB foi tipo o Jorge Jesus no Flamengo, a torcida espera que aconteça igual todo ano, mas aquilo foi um ponto fora d…>, <Tweet id=1492258675536371723 text=@bbb Piranha>, <Tweet id=1492258673489498112 text=RT @_doblues: Paulo André dizendo que a Eslovênia é a mais bonita da casa é pra fechar o BBB e dar o prêmio para o Tadeu.>, <Tweet id=1492258671442776070 text=@AlucardHLS @advogadadovigor @ligiavclima @bbb Mas porque?>, <Tweet id=1492258667558748174 text=@detailsnaiara Dayane maravilhosa ser humano humilde, bondoso tipo a Naiara. Rafa não gostava no BBB porém já passou dei uma chance kkkkk>, <Tweet id=1492258664006275081 text=@JOB41475 @POTUS Was already setup by Trump but Biden changed it so he could use it to  hold Americans hostage for his dumb BBB plan.  https://t.co/7ZZttG6Exb>, <Tweet id=1492258662525538306 text=RT @sahilkapur: What’s behind it?\n",
       "\n",
       "Democrats say they’re delivering on restoring functional government and taking wins where they can: “We'…>, <Tweet id=1492258661242220547 text=Se eu tivesse no bbb eu ia cantar 24 horas por dia também slk, povo só pode escutar música em dia de festa, eu ia surtar lá dentro>, <Tweet id=1492258660575330305 text=ultimamente me comunicando com esses tipos de sticker: @nocasomila, macaquinhos, pica-pau, tom e jerry e BBB>, <Tweet id=1492258656972382211 text=RT @rafaelportugal: A Larissa tava vendo outro BBB. Deve ser algum antigo no @globoplay>, <Tweet id=1492258656577941504 text=@mwolfers @MathisenNancy @SenSchumer @POTUS Not in the Senate. Even after the Moderates watered it down…they sent FLOTUS to deliver another disappointing policy loss - no 2 year community college..where workers can get certified, licensed, or what have you to improve job skills. Moderate #Democrats did that. #BBB>, <Tweet id=1492258654782959623 text=Esse BBB desandou né?!>, <Tweet id=1492258654417915907 text=RT @erlan_bastos: Viih Tube revela a quantas anda sua relação com Juliette no pós-BBB https://t.co/75vnBxhfXU via @emoff @ig>, <Tweet id=1492258654413803524 text=RT @bbb: Larissa, da Casa de Vidro, manda aviso para Jade: \"Cuidado com Bárbara e a amiga, Laís\" 👀\n",
       "\n",
       "➡️ https://t.co/1As7g6GY5T \n",
       "#BBB22 #Red…>, <Tweet id=1492258654116061184 text=RT @_doblues: Paulo André dizendo que a Eslovênia é a mais bonita da casa é pra fechar o BBB e dar o prêmio para o Tadeu.>, <Tweet id=1492258654040567815 text=volta a câmera pro quarto grunge, único cômodo com pessoas acordadas e conversando @globoplay @bbb>, <Tweet id=1492258654036414470 text=RT @rinasxcx: se eu chegasse no bbb na casa de vidro eu ia servir tanta tortura psicologica ja ia falando jade picon vc perdeu 5 milhoes de…>, <Tweet id=1492258653587529743 text=câmera do quarto grunge tá na sala e os dois acompanhe a casa na casa de vidro @bbb @globoplay vcs são um lixo>, <Tweet id=1492258651020611596 text=num paredão Arthur × Maria × Jessi é obrigação moral ser fora Jessi com muita força. https://t.co/fSeKxFp1nH>, <Tweet id=1492258650056015874 text=Até eu que não assisto BBB assitir essa prova da superbond kkkkk até hj fico me perguntando como https://t.co/7GsFkOrue6>, <Tweet id=1492258648197902339 text=RT @IsabeleRicardo2: @priorsmallville @priozete4ever Ele foi a melhor coisa do BBB 20, sem ele o programa não teria sido nem metade do suce…>], includes={}, errors=[], meta={'newest_id': '1492258865186062348', 'oldest_id': '1492258648197902339', 'result_count': 100, 'next_token': 'b26v89c19zqg8o3fpe75q9jza8c2o0w59um9fkqmlwq65'})"
      ]
     },
     "execution_count": 157,
     "metadata": {},
     "output_type": "execute_result"
    }
   ],
   "source": [
    "client.search_recent_tweets(\"BBB\", max_results=100)"
   ]
  },
  {
   "cell_type": "code",
   "execution_count": null,
   "id": "52076143",
   "metadata": {},
   "outputs": [],
   "source": []
  }
 ],
 "metadata": {
  "kernelspec": {
   "display_name": "Python 3",
   "language": "python",
   "name": "python3"
  },
  "language_info": {
   "codemirror_mode": {
    "name": "ipython",
    "version": 3
   },
   "file_extension": ".py",
   "mimetype": "text/x-python",
   "name": "python",
   "nbconvert_exporter": "python",
   "pygments_lexer": "ipython3",
   "version": "3.6.9"
  }
 },
 "nbformat": 4,
 "nbformat_minor": 5
}
